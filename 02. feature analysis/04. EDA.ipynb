{
 "cells": [
  {
   "cell_type": "code",
   "execution_count": null,
   "id": "213ef1e6",
   "metadata": {},
   "outputs": [],
   "source": [
    "import pandas as pd"
   ]
  },
  {
   "cell_type": "code",
   "execution_count": null,
   "id": "fdbff7d1",
   "metadata": {},
   "outputs": [],
   "source": [
    "df = pd.read_csv('bad_good_review.csv').drop(columns='Unnamed: 0')\n",
    "\n",
    "def search_keyword(keyword) :\n",
    "    search_df = df[df['bad_noun'] == keyword]\n",
    "    return search_df\n",
    "\n",
    "def show_data(keyword) :\n",
    "    total_df = pd.DataFrame()\n",
    "    try :\n",
    "        df = search_keyword(keyword)\n",
    "    except :\n",
    "        df = None\n",
    "    total_df = pd.concat([total_df, df])\n",
    "    return total_df"
   ]
  },
  {
   "cell_type": "markdown",
   "id": "5332d300",
   "metadata": {},
   "source": [
    "# 가설에 대한 키워드 검증\n",
    "- 가설 1) 편의성 증가 \n",
    "\n",
    "직관적, 단순함, 쉽게 이해, 러닝커브, 접근성, 조작감, UI, 인터페이스\n",
    "튜토리얼, 가이드, 설명서, 초보자, 진입장벽, 복잡함, 혼란스러움\n",
    "게임성, 조작법, 컨트롤, 간결함, 간편함, 사용성\n",
    "\n",
    "- 가설 2: 확실하게 느낄 수 있는 성장 체감\n",
    "\n",
    "레벨업, 성장, 능력치, 강화, 성취감, 보상, 파밍\n",
    "스킬, 장비, 아이템, 스탯, 능력, 성장곡선, 진척도\n",
    "던전, 퀘스트, 미션, 도전, 성취, 클리어, 난이도\n",
    "캐릭터 빌드, 특화, 사냥, 성장속도, 육성\n",
    "\n",
    "- 가설 3: 게임 연출의 강화\n",
    "\n",
    "그래픽, 이펙트, 타격감, 효과음, 사운드, 배경음악, BGM\n",
    "스킬 연출, 타격감, 시각효과, 애니메이션, 히트감\n",
    "컷씬, 연출, 특수효과, 몰입감, 액션, 타격, 임팩트\n",
    "화려함, 상쾌함, 쾌감, 만족감, 시원함, 박진감\n",
    "\n",
    "- 가설 4: 과금의 대한 리워드 강화\n",
    "\n",
    "과금, 현질, 충전, 결제, 캐시, 아이템몰, 패키지\n",
    "가성비, 혜택, 보너스, 특전, 한정, 이벤트, 프리미엄\n",
    "뽑기, 가챠, 확률, 레어, 유니크, 에픽, 레전더리\n",
    "밸런스, 불평등, 페이투윈, 무과금, 과금유저, 월정액\n",
    "코스튬, 스킨, 외형, 꾸미기, 컬렉션, VIP"
   ]
  },
  {
   "cell_type": "code",
   "execution_count": null,
   "id": "3ce1687b",
   "metadata": {},
   "outputs": [
    {
     "name": "stdout",
     "output_type": "stream",
     "text": [
      "  bad_noun  count_x  bad_per(%)  bad_rank good_noun  count_y  good_per(%)  \\\n",
      "0       태초    36994    1.400974       1.0        태초     5586     0.947271   \n",
      "\n",
      "   good_rank  per_diff  \n",
      "0        3.0  0.453703  \n",
      "    bad_noun  count_x  bad_per(%)  bad_rank good_noun  count_y  good_per(%)  \\\n",
      "201       성장     2075    0.078581     202.0        성장      831     0.140921   \n",
      "\n",
      "     good_rank  per_diff  \n",
      "201      104.0  -0.06234  \n"
     ]
    }
   ],
   "source": [
    "keyword_1 = ['시즌', '']"
   ]
  },
  {
   "cell_type": "code",
   "execution_count": null,
   "id": "d2895fbf",
   "metadata": {},
   "outputs": [],
   "source": []
  }
 ],
 "metadata": {
  "kernelspec": {
   "display_name": "base",
   "language": "python",
   "name": "python3"
  },
  "language_info": {
   "codemirror_mode": {
    "name": "ipython",
    "version": 3
   },
   "file_extension": ".py",
   "mimetype": "text/x-python",
   "name": "python",
   "nbconvert_exporter": "python",
   "pygments_lexer": "ipython3",
   "version": "3.12.7"
  }
 },
 "nbformat": 4,
 "nbformat_minor": 5
}
