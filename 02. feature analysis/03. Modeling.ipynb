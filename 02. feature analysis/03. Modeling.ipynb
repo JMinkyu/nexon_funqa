{
 "cells": [
  {
   "cell_type": "code",
   "execution_count": 1,
   "id": "a1077afb",
   "metadata": {},
   "outputs": [],
   "source": [
    "import os\n",
    "import re\n",
    "import pickle\n",
    "import requests\n",
    "import warnings\n",
    "from tqdm import tqdm"
   ]
  },
  {
   "cell_type": "code",
   "execution_count": 2,
   "id": "96063043",
   "metadata": {},
   "outputs": [],
   "source": [
    "import numpy as np\n",
    "import matplotlib.pyplot as plt\n",
    "import matplotlib.font_manager as fm\n",
    "import pandas as pd\n",
    "import seaborn as sns\n",
    "from wordcloud import WordCloud"
   ]
  },
  {
   "cell_type": "code",
   "execution_count": 3,
   "id": "696d9ec6",
   "metadata": {},
   "outputs": [],
   "source": [
    "from konlpy.tag import Okt\n",
    "from sklearn.feature_extraction.text import CountVectorizer\n",
    "from sklearn.feature_extraction.text import TfidfVectorizer\n",
    "from sklearn.linear_model import LogisticRegression"
   ]
  },
  {
   "cell_type": "code",
   "execution_count": 4,
   "id": "2b6a5384",
   "metadata": {},
   "outputs": [
    {
     "name": "stderr",
     "output_type": "stream",
     "text": [
      "<>:7: SyntaxWarning: invalid escape sequence '\\W'\n",
      "<>:7: SyntaxWarning: invalid escape sequence '\\W'\n",
      "C:\\Users\\user\\AppData\\Local\\Temp\\ipykernel_5796\\3491805238.py:7: SyntaxWarning: invalid escape sequence '\\W'\n",
      "  font_path = \"C:\\Windows\\Fonts\\Hancom Gothic Bold.ttf\"  # 경로 확인 후 변경 필요\n"
     ]
    }
   ],
   "source": [
    "warnings.filterwarnings('ignore', category=UserWarning)\n",
    "\n",
    "# Seaborn 테마 설정\n",
    "sns.set_theme(style='whitegrid')\n",
    "\n",
    "# 한글 폰트 사용\n",
    "font_path = \"C:\\Windows\\Fonts\\Hancom Gothic Bold.ttf\"  # 경로 확인 후 변경 필요\n",
    "font_prop = fm.FontProperties(fname=font_path)\n",
    "plt.rc('font', family=font_prop.get_name())"
   ]
  },
  {
   "cell_type": "markdown",
   "id": "e9c07829",
   "metadata": {},
   "source": [
    "# 훈련 데이터 셋 가져오기\n",
    "- 구글 플레이 스토어에 있는 리뷰를 통한 데이터 훈련\n",
    "- 평점의 1, 2, 3 -> 0 , 4, 5 -> 1로 라벨링을 설정하고 회귀분석 모델로 감정분석 진행"
   ]
  },
  {
   "cell_type": "code",
   "execution_count": 5,
   "id": "0206d61f",
   "metadata": {},
   "outputs": [],
   "source": [
    "# 훈련된 모델 및 TF-IDF 벡터라이저 불러오기\n",
    "with open(\"../data/mining/X_train.pkl\", \"rb\") as f:\n",
    "  X_train = pickle.load(f)\n",
    "\n",
    "with open(\"../data/mining/y_train.pkl\", \"rb\") as f:\n",
    "  y_train = pickle.load(f)"
   ]
  },
  {
   "cell_type": "code",
   "execution_count": null,
   "id": "bad33182",
   "metadata": {},
   "outputs": [],
   "source": []
  }
 ],
 "metadata": {
  "kernelspec": {
   "display_name": "base",
   "language": "python",
   "name": "python3"
  },
  "language_info": {
   "codemirror_mode": {
    "name": "ipython",
    "version": 3
   },
   "file_extension": ".py",
   "mimetype": "text/x-python",
   "name": "python",
   "nbconvert_exporter": "python",
   "pygments_lexer": "ipython3",
   "version": "3.12.7"
  }
 },
 "nbformat": 4,
 "nbformat_minor": 5
}
